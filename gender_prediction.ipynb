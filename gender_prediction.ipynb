{
 "cells": [
  {
   "cell_type": "markdown",
   "metadata": {},
   "source": [
    "# Gender Prediction from Yelp Reviews\n",
    "**Task**: Given a list of Yelp reviews all written by the same Yelp user, predict whether the user is female or male.\n",
    "\n",
    "**Approach**: Guess gender of Yelp users by their names by match the names with a name lookup table. Use these guesses as training labels to fit a model for gender prediction."
   ]
  },
  {
   "cell_type": "code",
   "execution_count": 1,
   "metadata": {},
   "outputs": [],
   "source": [
    "import os\n",
    "from timeit import default_timer as timer\n",
    "from datetime import timedelta\n",
    "\n",
    "from sklearn.feature_extraction.text import TfidfVectorizer\n",
    "from sklearn.model_selection import train_test_split\n",
    "from sklearn.svm import SVC\n",
    "\n",
    "from GenderPredictionData import GenderPredictionData"
   ]
  },
  {
   "cell_type": "code",
   "execution_count": 2,
   "metadata": {},
   "outputs": [],
   "source": [
    "pkl_file_path = 'gender_prediction_data.pkl'\n",
    "yelp_dataset_dir = 'data/yelp_dataset'\n",
    "name_list_path = 'data/names/yob2019.txt'"
   ]
  },
  {
   "cell_type": "markdown",
   "metadata": {},
   "source": [
    "## Load training and test data\n",
    "Load dataset from pickle file, if it was already created (and stored) before. Otherwise, create dataset from Yelp dataset JSON files."
   ]
  },
  {
   "cell_type": "code",
   "execution_count": 3,
   "metadata": {},
   "outputs": [
    {
     "name": "stdout",
     "output_type": "stream",
     "text": [
      "Pickled data to gender_prediction_data.pkl\n"
     ]
    }
   ],
   "source": [
    "gpd = GenderPredictionData(verbose=True)\n",
    "\n",
    "if os.path.exists(pkl_file_path):\n",
    "    gpd.unpickle(pkl_file_path)\n",
    "else:\n",
    "    gpd.read_data(yelp_dataset_dir, name_list_path)\n",
    "    gpd.pickle(pkl_file_path)"
   ]
  },
  {
   "cell_type": "markdown",
   "metadata": {},
   "source": [
    "## Prepare Data\n",
    "\n",
    "The data are prepared using the following pipeline:\n",
    "- Shuffle all samples (sample = Yelp user)\n",
    "- Drop all users with less than 10 reviews\n",
    "- Shuffle the review list of each user\n",
    "- Take only the first 10 reviews of each user\n",
    "- Sanitize all reviews (removing numbers, punctuation, lower case)\n",
    "- Concatenate all ten reviews of each user to one text"
   ]
  },
  {
   "cell_type": "code",
   "execution_count": 4,
   "metadata": {},
   "outputs": [
    {
     "name": "stdout",
     "output_type": "stream",
     "text": [
      "Shuffle samples...\n",
      "Drop all users with less than 10 reviews...\n",
      "Shrink dataset to 20000 samples...\n",
      "Balance dataset...\n",
      "Shuffle review lists...\n",
      "Truncate review list to 10 review per sample...\n",
      "Sanitize review texts...\n",
      "Merge reviews...\n"
     ]
    },
    {
     "data": {
      "text/plain": [
       "<GenderPredictionData.GenderPredictionData at 0x120a4f5e0>"
      ]
     },
     "execution_count": 4,
     "metadata": {},
     "output_type": "execute_result"
    }
   ],
   "source": [
    "gpd.shuffle().min_review_num(10).shrink(20000, balance = True).shuffle_reviews().truncate(10).sanitize().merge()"
   ]
  },
  {
   "cell_type": "code",
   "execution_count": 6,
   "metadata": {},
   "outputs": [
    {
     "name": "stdout",
     "output_type": "stream",
     "text": [
      "Number of samples: 20000\n"
     ]
    }
   ],
   "source": [
    "print(f\"Number of samples: {gpd.size}\")"
   ]
  },
  {
   "cell_type": "code",
   "execution_count": 7,
   "metadata": {},
   "outputs": [],
   "source": [
    "corpus = [reviews[0] for gender, reviews in gpd.data]\n",
    "labels = [gender for gender, reviews in gpd.data]"
   ]
  },
  {
   "cell_type": "code",
   "execution_count": 8,
   "metadata": {},
   "outputs": [
    {
     "data": {
      "text/plain": [
       "\"amazing breakfast spot i come down here once or twice every months i recommend the breakfast menu here and the juicy tasty pork chops if you're on the south west side of town  slidin' thru's hq is in a convenient place near the airport i like the retro laid back atmosphere that resembles much of the design of their food truck eventually they're going to build another one up in the centennial area in north las vegas anyone that likes pulled pork will enjoy that pulled porky slider  my boss is a big powerlifter so when he says a place is good (it may not be on the healthy side but more the meatlover side) it's good i went in here after a long hike one time with a group of coworkers and absolutely pigged out service is fast here because they already have the various meats cooked even with this the meat is very fresh the only thing i'd ever ordered from here is the westerner because it is a roll and you can choose two different meats i usually get the westerner with a beef brisket and pulled pork cheese pickles and onions are also what they include in this but are optional my favorite side items are carb loaded though with my usual mac and cheese or garlic mashed potatoes (with chives and cheese) they have a wealth of condiments such as flavors of barbeque sauce: spicy sweet and their special combination sauce which i love the most also they do have weekly specials from monday friday love how these guys cater as well free vanilla ice cream on your way out at the exit is the bonus i am a regular at this place and recommend it to any of my friends who love meat  food almost always comes out quick friendly staff clean venue with nice hawaiian ambience what makes this place legit are the constant island people who always dine here when i come  as far as i know this is the largest mexican grocery store in vegas it is always busy but the service is fast every now and then i will have a taco night at the house and ordering everything from here the shrimp or combo shrimp and octopus ceviche is always delicious the freshly made guacamole and pico de gallo as well the tortillas are made fresh out of the machine and i always get a bag of these chips to eat the ceviche with as far as the meats i usually get some carne asada and marinated chicken or pork from the butcher every now and then there will be deals in here so keep a lookout when you come  i've been going to this restaurant chain for the past four years and love it because of it being hours opened right in my neighborhood warning: this is not for those health conscious and is more for those who need a late night mexican fix and want something better than taco bell health nuts should just get cucumber from the salad bar or should already be home asleep after a night of clubbing my go to meal is the carne asada burrito my cousin's go to meal are the carne asada fries (and trust me they don't stiff you at all on the carne asada unlike other restaurants) before i would sometimes get the carne asada chimi chonga meal but no longer the facility is clean; they always have a stocked up bar of salsa lime and fresh cucumber  went here today and the crawfish were not only in season but hnj definitely flew them in and hooked it up out here in the desert the restaurant was its usual busy occupied with parking hard to find in this valley view spring mountain plaza my friends ate the crawfish and they were ginormous the shrimp were also huge as i took an extra pound home hot n juicy mild sauce was on point the catfish and calamari were okay but this is to be expected from battered deep fried seafood i honestly believe these guys are about equal to cajun crawfish as well as boiling crab the sauce at this location has a little more taste than the others but they are close to equal  amazing buffet it was my second time eating here yesterday and it did not disappoint i went with friends in town for dinner so the price on a sunday was a hefty but it did not disappoint first time i was here was back in november on a saturday early noon and the line was about a minute wait yesterday sunday around 4:30pm there was no wait in line at all but there was a rush of people whe we concluded our meal on my first trip to this buffet i had one of the best cooked prime ribs i'd ever had on my second trip here i strayed away from that and instead focused more on the seafood presentation was unlike anything i've seen before they had tiny little cute buckets of wings or fried chicken pieces with fries the lasagna was served on a tiny skillet with a decent amount of meat and the sauce was unbelievable the chef's special was also served on a tiny cute little iron pan and it was a lightly breaded calamari on my first trip i thought the shrimps were bigger and the king crab legs were small portions and were also very salty but i realized this was only because it was busier back in november when i went as there was a 5min wait to get the king crabs this second time around there was alot less of a wait and i just realized the workers there can serve you warmed up king crab that is dipped in hot water i got my king crab served this way this time around and they were far less salty and on point and of course dipped it in the melted butter in the seafood section i also enjoyed the baked salmon pan seared halibut mussels half shell oysters corn lobster bisque the large shrimp and an amazing oyster shooter instead of prime rib i thought i'd try the pork ribs and the lamb chops the chops were amazing and very juicy the pork ribs on the other hand were not so much i was hoping for standing chocolate ice cream but they had one that had cinnamon that i wasn't too big a fan of overall this place is highly recommended by me if you have friends in town  one of the best convention centers in the world because of such events as the consumer electronics show sema and other big conventions enjoy coming here annually all of the hotels and casinos coordinate very well with the las vegas convention visitors authority to provide transportation security and traffic/pedestrian assistance  awesome lunch specials as well as happy hours i usually stop by here with coworkers to watch football games and always liked the reasonable price of meals here there are a number of restaurants that have come and gone\""
      ]
     },
     "execution_count": 8,
     "metadata": {},
     "output_type": "execute_result"
    }
   ],
   "source": [
    "corpus[0]"
   ]
  },
  {
   "cell_type": "code",
   "execution_count": 9,
   "metadata": {},
   "outputs": [],
   "source": [
    "corpus_train, corpus_test, y_train, y_test = train_test_split(corpus, labels, test_size=0.3)"
   ]
  },
  {
   "cell_type": "code",
   "execution_count": 10,
   "metadata": {},
   "outputs": [],
   "source": [
    "vectorizer = TfidfVectorizer(stop_words='english', max_features=2000)\n",
    "X_train = vectorizer.fit_transform(corpus_train).toarray()\n",
    "X_test = vectorizer.fit_transform(corpus_test).toarray()"
   ]
  },
  {
   "cell_type": "code",
   "execution_count": 11,
   "metadata": {},
   "outputs": [
    {
     "ename": "NameError",
     "evalue": "name 'timedelta' is not defined",
     "output_type": "error",
     "traceback": [
      "\u001B[0;31m---------------------------------------------------------------------------\u001B[0m",
      "\u001B[0;31mNameError\u001B[0m                                 Traceback (most recent call last)",
      "\u001B[0;32m<ipython-input-11-1fe0be490f1b>\u001B[0m in \u001B[0;36m<module>\u001B[0;34m\u001B[0m\n\u001B[1;32m      3\u001B[0m \u001B[0msvm_clf\u001B[0m\u001B[0;34m.\u001B[0m\u001B[0mfit\u001B[0m\u001B[0;34m(\u001B[0m\u001B[0mX_train\u001B[0m\u001B[0;34m,\u001B[0m \u001B[0my_train\u001B[0m\u001B[0;34m)\u001B[0m\u001B[0;34m\u001B[0m\u001B[0;34m\u001B[0m\u001B[0m\n\u001B[1;32m      4\u001B[0m \u001B[0mend\u001B[0m \u001B[0;34m=\u001B[0m \u001B[0mtimer\u001B[0m\u001B[0;34m(\u001B[0m\u001B[0;34m)\u001B[0m\u001B[0;34m\u001B[0m\u001B[0;34m\u001B[0m\u001B[0m\n\u001B[0;32m----> 5\u001B[0;31m \u001B[0mprint\u001B[0m\u001B[0;34m(\u001B[0m\u001B[0;34mf\"Fit svm in {timedelta(seconds=end-start)}\"\u001B[0m\u001B[0;34m)\u001B[0m\u001B[0;34m\u001B[0m\u001B[0;34m\u001B[0m\u001B[0m\n\u001B[0m",
      "\u001B[0;31mNameError\u001B[0m: name 'timedelta' is not defined"
     ]
    }
   ],
   "source": [
    "start = timer()\n",
    "svm_clf = SVC()\n",
    "svm_clf.fit(X_train, y_train)\n",
    "end = timer()\n",
    "print(f\"Fit svm in {timedelta(seconds=end-start)}\")"
   ]
  },
  {
   "cell_type": "code",
   "execution_count": null,
   "metadata": {},
   "outputs": [],
   "source": [
    "start = timer()\n",
    "y_pred = svm_clf.predict(X_test)\n",
    "end = timer()\n",
    "print(f\"Predicted test data in {timedelta(seconds=end-start)}\")"
   ]
  },
  {
   "cell_type": "code",
   "execution_count": null,
   "metadata": {},
   "outputs": [],
   "source": []
  }
 ],
 "metadata": {
  "kernelspec": {
   "display_name": "yelp-dataset",
   "language": "python",
   "name": "yelp-dataset"
  },
  "language_info": {
   "codemirror_mode": {
    "name": "ipython",
    "version": 3
   },
   "file_extension": ".py",
   "mimetype": "text/x-python",
   "name": "python",
   "nbconvert_exporter": "python",
   "pygments_lexer": "ipython3",
   "version": "3.8.5"
  }
 },
 "nbformat": 4,
 "nbformat_minor": 1
}