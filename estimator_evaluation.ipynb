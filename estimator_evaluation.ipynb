{
 "cells": [
  {
   "cell_type": "markdown",
   "metadata": {
    "pycharm": {
     "name": "#%% md\n"
    }
   },
   "source": [
    "# Estimator Evaluation\n",
    "Imports the specified estimators, predict on test datasets and print/plot accuracy values."
   ]
  },
  {
   "cell_type": "markdown",
   "metadata": {
    "pycharm": {
     "name": "#%% md\n"
    }
   },
   "source": [
    "## Parameters:"
   ]
  },
  {
   "cell_type": "code",
   "execution_count": null,
   "metadata": {},
   "outputs": [],
   "source": [
    "n_reviews = [1, 2, 5, 10, 20, 'all'] # Specify which estimators should be evaluated"
   ]
  },
  {
   "cell_type": "code",
   "execution_count": null,
   "metadata": {},
   "outputs": [],
   "source": [
    "import pickle\n",
    "\n",
    "import matplotlib.pyplot as plt\n",
    "from sklearn.metrics import accuracy_score, classification_report\n",
    "\n",
    "from GenderEstimator import GenderEstimator"
   ]
  },
  {
   "cell_type": "code",
   "execution_count": null,
   "metadata": {
    "jupyter": {
     "outputs_hidden": false
    },
    "pycharm": {
     "name": "#%%\n"
    }
   },
   "outputs": [],
   "source": [
    "def compute_accuracy_score(n_reviews):\n",
    "    with open(f'data/estimators/estimator_{n_reviews}.pkl', 'rb') as fd:\n",
    "        estimator = pickle.load(fd)\n",
    "        \n",
    "    with open(f'data/datasets/dataset_{n_reviews}_test.pkl', 'rb') as fd:\n",
    "        test_data = pickle.load(fd)\n",
    "        \n",
    "    y_true, X = zip(*test_data)\n",
    "    y_pred = estimator.predict([' '.join(x) for x in X])\n",
    "    \n",
    "    score = accuracy_score(y_true, y_pred)\n",
    "    \n",
    "    print(f\"Classification report for estimator prediction based on {n_reviews} reviews per user:\")\n",
    "    print(classification_report(y_true, y_pred, target_names=['female', 'male']))\n",
    "    \n",
    "    return score"
   ]
  },
  {
   "cell_type": "code",
   "execution_count": null,
   "outputs": [],
   "source": [
    "scores = []\n",
    "for n in n_reviews:\n",
    "     scores.append(compute_accuracy_score(n))"
   ],
   "metadata": {
    "collapsed": false,
    "pycharm": {
     "name": "#%%\n"
    }
   }
  },
  {
   "cell_type": "code",
   "execution_count": null,
   "outputs": [],
   "source": [
    "fig, ax = plt.subplots()\n",
    "ax.plot(scores)\n",
    "ax.set_ylabel('Accuracy')\n",
    "ax.set_xlabel('Number of reviews per user')\n",
    "ax.set_xticks([0, 1, 2, 3, 4, 5])\n",
    "ax.set_xticklabels([1, 2, 5, 10, 20, 'all'])\n",
    "\n",
    "plt.show()"
   ],
   "metadata": {
    "collapsed": false,
    "pycharm": {
     "name": "#%%\n"
    }
   }
  }
 ],
 "metadata": {
  "kernelspec": {
   "display_name": "yelp-dataset",
   "language": "python",
   "name": "yelp-dataset"
  },
  "language_info": {
   "codemirror_mode": {
    "name": "ipython",
    "version": 3
   },
   "file_extension": ".py",
   "mimetype": "text/x-python",
   "name": "python",
   "nbconvert_exporter": "python",
   "pygments_lexer": "ipython3",
   "version": "3.8.5"
  }
 },
 "nbformat": 4,
 "nbformat_minor": 4
}